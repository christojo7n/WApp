{
  "nbformat": 4,
  "nbformat_minor": 0,
  "metadata": {
    "colab": {
      "provenance": [],
      "collapsed_sections": []
    },
    "kernelspec": {
      "name": "python3",
      "display_name": "Python 3"
    },
    "language_info": {
      "name": "python"
    }
  },
  "cells": [
    {
      "cell_type": "code",
      "source": [
        "!pip install -q streamlit\n",
        "!pip install pyngrok==4.1.1 --quiet\n"
      ],
      "metadata": {
        "id": "LnCwqDhKRiq0",
        "colab": {
          "base_uri": "https://localhost:8080/"
        },
        "outputId": "118604c1-93ac-41b8-c28b-88e6b02edbb2"
      },
      "execution_count": 1,
      "outputs": [
        {
          "output_type": "stream",
          "name": "stdout",
          "text": [
            "\u001b[K     |████████████████████████████████| 9.2 MB 6.0 MB/s \n",
            "\u001b[K     |████████████████████████████████| 4.7 MB 47.5 MB/s \n",
            "\u001b[K     |████████████████████████████████| 235 kB 63.6 MB/s \n",
            "\u001b[K     |████████████████████████████████| 78 kB 5.8 MB/s \n",
            "\u001b[K     |████████████████████████████████| 164 kB 56.9 MB/s \n",
            "\u001b[K     |████████████████████████████████| 181 kB 51.7 MB/s \n",
            "\u001b[K     |████████████████████████████████| 63 kB 1.5 MB/s \n",
            "\u001b[K     |████████████████████████████████| 51 kB 5.5 MB/s \n",
            "\u001b[?25h  Building wheel for validators (setup.py) ... \u001b[?25l\u001b[?25hdone\n",
            "  Building wheel for pyngrok (setup.py) ... \u001b[?25l\u001b[?25hdone\n"
          ]
        }
      ]
    },
    {
      "cell_type": "code",
      "source": [
        "from pyngrok import ngrok\n"
      ],
      "metadata": {
        "id": "2WDMszQbS_3x"
      },
      "execution_count": 3,
      "outputs": []
    },
    {
      "cell_type": "code",
      "source": [
        "%%writefile WMA.py\n",
        "import streamlit as st\n",
        "import tensorflow as tf\n",
        "import numpy as np\n",
        "from PIL import Image \n",
        "import cv2 ,os\n",
        "from keras.models import load_model\n",
        "\n",
        "#set location of model\n",
        "model_path='/content/drive/MyDrive/WApp/cjbest.h5'\n",
        "CJNET = load_model(model_path)\n",
        "clsnm= ['Burn','Hematoma','Abscess','Abrasion','Cut/Incision']\n",
        "\n",
        "st.title(\"WOUND MANAGEMENT APP*\")\n",
        "st.subheader(\"*Test Application and Educational Purpose Only\")\n",
        "\n",
        "upload = st.file_uploader('Upload your Wound Image')\n",
        "\n",
        "if upload is not None:\n",
        "  file_bytes = np.asarray(bytearray(upload.read()), dtype=np.uint8)\n",
        "  im = cv2.imdecode(file_bytes, 1)\n",
        "  img = Image.open(upload)\n",
        "  st.image(img,caption='Uploaded Image',width=300)\n",
        "  \n",
        "  if(st.button('Predict')):\n",
        "    \n",
        "    inpim = cv2.resize(im,(227,227))   \n",
        "    x=np.reshape(inpim,(1,227,227,3))\n",
        "    y = CJNET.predict(x)\n",
        "    #st.title(y)\n",
        "    y_pred=np.argmax(y,axis=1)\n",
        "    opstmt=[clsnm[x] for x in y_pred]\n",
        "    #print(opstmt)\n",
        "    st.subheader(str(opstmt[0])+\" found\")\n",
        "    \n",
        "    brn='1.Cool the burn.\\n 2.Dont break blisters.\\n3.Apply lotion.\\n4.Bandage the burn'\n",
        "    abs='1.Clean the Wound\\n2.Apply Betadine\\n3.Close the Abrasion'\n",
        "    hem='1.Rest and protect the bruised area.\\n2.Put ice '\n",
        "    cut='1.Wash your hands. This helps avoid infection.\\n2.Stop the bleeding.\\n3.Clean the wound.\\n4.Apply an antibiotic\\n5.Bandage'\n",
        "    abr='1.Clean the Wound\\n2.Keep it Dry'\n",
        "    trt = [brn,hem,abs,abr,cut]\n",
        "    \n",
        "    \n",
        "    st.header('Treatment')\n",
        "    for x in y_pred:\n",
        "      for j in trt[x].split('\\n'):\n",
        "        st.text(j)\n",
        "    \n",
        "   "
      ],
      "metadata": {
        "colab": {
          "base_uri": "https://localhost:8080/"
        },
        "id": "qbplaNRaF5Oj",
        "outputId": "30891a70-2526-4260-c948-ad8fae1f0b0d"
      },
      "execution_count": 9,
      "outputs": [
        {
          "output_type": "stream",
          "name": "stdout",
          "text": [
            "Overwriting WMA.py\n"
          ]
        }
      ]
    },
    {
      "cell_type": "code",
      "source": [
        "#expnm=\"1x.\"+upload.type.split(\"/\")[-1]\n",
        "#with open(os.path.join(\"test\",expnm),\"wb\") as f:\n",
        "\t\t\t  \t#f.write((upload).getbuffer())\n",
        "#clfim=Image.open(\"./yolov5/runs/detect/exp38/\"+expnm)\n",
        "    #st.image(clfim,caption='Classified Image',width=300)\n",
        "    #dect2.main() "
      ],
      "metadata": {
        "id": "Zw3w4G70gGPU"
      },
      "execution_count": null,
      "outputs": []
    },
    {
      "cell_type": "code",
      "source": [
        "ngrok.set_auth_token(\"1bIjwtCx1zP5AMCItDkZEYWWHLd_7W8D8kyS47hLb2cHMFUFG\") #ngrok.com\n",
        "!nohup streamlit run WMA.py &\n",
        "url = ngrok.connect(port='8501')\n"
      ],
      "metadata": {
        "colab": {
          "base_uri": "https://localhost:8080/"
        },
        "id": "ikH3MYB-Ss6E",
        "outputId": "cbdc4585-6fd7-43ad-92d5-0c41e15a7c12"
      },
      "execution_count": 13,
      "outputs": [
        {
          "output_type": "stream",
          "name": "stdout",
          "text": [
            "nohup: appending output to 'nohup.out'\n"
          ]
        }
      ]
    },
    {
      "cell_type": "code",
      "source": [
        "url"
      ],
      "metadata": {
        "colab": {
          "base_uri": "https://localhost:8080/",
          "height": 35
        },
        "id": "zuU44GKafxZI",
        "outputId": "b54876ec-623e-444e-baa1-3e2d9f8a68f5"
      },
      "execution_count": 14,
      "outputs": [
        {
          "output_type": "execute_result",
          "data": {
            "text/plain": [
              "'http://045c-34-71-25-101.ngrok.io'"
            ],
            "application/vnd.google.colaboratory.intrinsic+json": {
              "type": "string"
            }
          },
          "metadata": {},
          "execution_count": 14
        }
      ]
    },
    {
      "cell_type": "code",
      "source": [
        "!ps\n"
      ],
      "metadata": {
        "colab": {
          "base_uri": "https://localhost:8080/"
        },
        "id": "cSfPN6LYYm_Q",
        "outputId": "08d09df5-f33e-4eca-8d44-2e097d66b75a"
      },
      "execution_count": 11,
      "outputs": [
        {
          "output_type": "stream",
          "name": "stdout",
          "text": [
            "    PID TTY          TIME CMD\n",
            "      1 ?        00:00:00 docker-init\n",
            "      7 ?        00:00:01 node\n",
            "     18 ?        00:00:00 tail\n",
            "     28 ?        00:00:06 python3 <defunct>\n",
            "     29 ?        00:00:00 colab-fileshim.\n",
            "     42 ?        00:00:01 jupyter-noteboo\n",
            "     43 ?        00:00:00 dap_multiplexer\n",
            "     57 ?        00:00:05 python3\n",
            "     75 ?        00:00:00 python3\n",
            "    111 ?        00:00:00 bash\n",
            "    112 ?        00:00:00 drive\n",
            "    113 ?        00:00:00 grep\n",
            "    175 ?        00:00:00 drive\n",
            "    204 ?        00:00:00 fusermount <defunct>\n",
            "    255 ?        00:00:00 bash\n",
            "    256 ?        00:00:00 directoryprefet\n",
            "    257 ?        00:00:00 tail\n",
            "    258 ?        00:00:00 python3\n",
            "    324 ?        00:00:31 node\n",
            "    369 ?        00:00:07 streamlit\n",
            "    371 ?        00:00:01 ngrok\n",
            "    408 ?        00:00:01 streamlit\n",
            "    422 ?        00:00:00 ps\n"
          ]
        }
      ]
    },
    {
      "cell_type": "code",
      "source": [
        "!kill 371"
      ],
      "metadata": {
        "id": "DZS-yAY_UsIw"
      },
      "execution_count": 12,
      "outputs": []
    }
  ]
}